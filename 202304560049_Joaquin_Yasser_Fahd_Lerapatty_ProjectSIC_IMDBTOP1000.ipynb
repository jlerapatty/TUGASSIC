{
  "nbformat": 4,
  "nbformat_minor": 0,
  "metadata": {
    "colab": {
      "provenance": [],
      "authorship_tag": "ABX9TyNuifsYPv93JpvkSaXxd3+2",
      "include_colab_link": true
    },
    "kernelspec": {
      "name": "python3",
      "display_name": "Python 3"
    },
    "language_info": {
      "name": "python"
    }
  },
  "cells": [
    {
      "cell_type": "markdown",
      "metadata": {
        "id": "view-in-github",
        "colab_type": "text"
      },
      "source": [
        "<a href=\"https://colab.research.google.com/github/jlerapatty/TUGASSIC/blob/main/202304560049_Joaquin_Yasser_Fahd_Lerapatty_ProjectSIC_IMDBTOP1000.ipynb\" target=\"_parent\"><img src=\"https://colab.research.google.com/assets/colab-badge.svg\" alt=\"Open In Colab\"/></a>"
      ]
    },
    {
      "cell_type": "markdown",
      "source": [
        "Nama Dataset   : imdb top 1000\n",
        "\n",
        "Sumber Dataset : https://www.kaggle.com/datasets/harshitshankhdhar/imdb-dataset-of-top-1000-movies-and-tv-shows\n",
        "\n",
        "Dataset ini mencakup data penting dari IMDb seperti :\n",
        "\n",
        "Title (Judul film/acara)\n",
        "\n",
        "Genre\n",
        "\n",
        "Release Year\n",
        "\n",
        "Runtime\n",
        "\n",
        "IMDB Rating\n",
        "\n",
        "MetaScore\n",
        "\n",
        "Gross earnings\n",
        "\n",
        "Certificate (rating usia seperti PG-13, R, dll.)\n",
        "\n",
        "Director dan Stars\n",
        "\n",
        "Konteks Masalah :\n",
        "Proyek ini bertujuan untuk memprediksi rating IMDb sebuah film berdasarkan genre, guna mengetahui genre apa saja yang cenderung mendapatkan rating tinggi dan membantu pengambilan keputusan dalam rekomendasi film.\n",
        "\n",
        "\n",
        "Identifikasi variabel target : IMDB_Rating dan Genre"
      ],
      "metadata": {
        "id": "0mIwX7SYcO0J"
      }
    },
    {
      "cell_type": "code",
      "execution_count": null,
      "metadata": {
        "id": "P1vXL0oM95lM"
      },
      "outputs": [],
      "source": [
        "import pandas as pd\n",
        "import numpy as np\n",
        "import matplotlib.pyplot as plt\n",
        "import seaborn as sns\n",
        "\n",
        "# Tentukan path file dataset Anda\n",
        "file_path = 'imdb_top_1000.csv'\n",
        "\n",
        "# Memuat dataset dari file CSV\n",
        "try:\n",
        "    df = pd.read_csv(file_path)\n",
        "    print(f\"Dataset '{file_path}' berhasil dimuat.\")\n",
        "    print(f\"Dimensi dataset: {df.shape[0]} baris, {df.shape[1]} kolom\")\n",
        "except FileNotFoundError:\n",
        "    print(f\"Error: File '{file_path}' tidak ditemukan.\")\n",
        "    df = None # Set df ke None jika gagal\n",
        "except Exception as e:\n",
        "    print(f\"Error lain saat memuat dataset: {e}\")\n",
        "    df = None\n",
        "\n",
        "# Menampilkan 5 baris pertama jika berhasil dimuat\n",
        "if df is not None:\n",
        "    print(\"\\n5 Baris Pertama Dataset:\")\n",
        "    # Mengatur agar semua kolom ditampilkan (opsional, berguna jika kolom banyak)\n",
        "    pd.set_option('display.max_columns', None)\n",
        "    print(df.head())\n"
      ]
    },
    {
      "cell_type": "code",
      "source": [
        "if df is not None:\n",
        "    # Menampilkan informasi dasar (tipe data, non-null counts, memory usage)\n",
        "    print(\"\\nInformasi Dasar Dataset (df.info()):\")\n",
        "    df.info()\n",
        "else:\n",
        "    print(\"Dataset belum dimuat.\")"
      ],
      "metadata": {
        "id": "AUonPNyfQCH8"
      },
      "execution_count": null,
      "outputs": []
    },
    {
      "cell_type": "code",
      "source": [
        "if df is not None:\n",
        "    # Menampilkan statistik deskriptif untuk kolom numerik\n",
        "    print(\"\\nStatistik Deskriptif (Numerik):\")\n",
        "    print(df.describe().T)  # .T untuk transpose agar lebih mudah dibaca\n",
        "\n",
        "    # Menampilkan statistik deskriptif untuk kolom object/kategorikal\n",
        "    print(\"\\nStatistik Deskriptif (Kategorikal/Object):\")\n",
        "    print(df.describe(include=['object', 'category']).T)\n",
        "else:\n",
        "    print(\"Dataset belum dimuat.\")\n"
      ],
      "metadata": {
        "id": "VGepylXjVRWn"
      },
      "execution_count": null,
      "outputs": []
    },
    {
      "cell_type": "code",
      "source": [
        "if df is not None:\n",
        "    # Menghitung jumlah nilai hilang per kolom\n",
        "    missing_values = df.isnull().sum()\n",
        "\n",
        "    if missing_values.sum() == 0:\n",
        "        print(\"\\nTidak ditemukan nilai hilang dalam dataset.\")\n",
        "    else:\n",
        "        # Menghitung persentase nilai hilang per kolom\n",
        "        missing_percentage = (missing_values / len(df)) * 100\n",
        "        # Menggabungkan hasil ke dalam DataFrame\n",
        "        missing_info = pd.DataFrame({\n",
        "            'Jumlah Hilang': missing_values,\n",
        "            'Persentase Hilang': missing_percentage\n",
        "        })\n",
        "        # Menampilkan hanya kolom yang memiliki nilai hilang\n",
        "        print(\"\\nInformasi Nilai Hilang:\")\n",
        "        print(missing_info[missing_info['Jumlah Hilang'] > 0].sort_values(by='Persentase Hilang', ascending=False))\n",
        "else:\n",
        "    print(\"Dataset belum dimuat.\")\n"
      ],
      "metadata": {
        "id": "sqDeFP5oYuTB"
      },
      "execution_count": null,
      "outputs": []
    },
    {
      "cell_type": "code",
      "source": [
        "if df is not None:\n",
        "    try:\n",
        "        print(\"\\nMembuat histogram untuk fitur numerik...\")\n",
        "        ax = df.hist(figsize=(12, 10), bins=20)  # bins disesuaikan\n",
        "        plt.tight_layout()\n",
        "        plt.savefig(\"histogram.png\")  # Simpan ke file\n",
        "        plt.show()\n",
        "    except Exception as e:\n",
        "        print(f\"Gagal membuat histogram: {e}\")\n",
        "else:\n",
        "    print(\"Dataset belum dimuat.\")\n"
      ],
      "metadata": {
        "id": "O9eoWDamZV5Q"
      },
      "execution_count": null,
      "outputs": []
    },
    {
      "cell_type": "code",
      "source": [
        "if df is not None:\n",
        "    categorical_cols = df.select_dtypes(include=['object']).columns\n",
        "    print(\"\\nMembuat countplot untuk fitur kategorikal...\")\n",
        "    for column in categorical_cols:\n",
        "        try:\n",
        "            plt.figure(figsize=(10, 6))  # Sesuaikan ukuran jika perlu\n",
        "            # Mengambil 20 kategori teratas jika > 20 agar plot tidak terlalu ramai\n",
        "            top_categories = df[column].value_counts().nlargest(20).index\n",
        "            sns.countplot(data=df[df[column].isin(top_categories)], y=column,\n",
        "                          order=top_categories, palette='viridis')\n",
        "            plt.title(f'Distribusi {column} (Top 20 jika > 20)')\n",
        "            plt.xlabel('Jumlah')\n",
        "            plt.ylabel(column)\n",
        "            plt.tight_layout()\n",
        "            plt.show()\n",
        "        except Exception as e:\n",
        "            print(f\"Gagal membuat countplot untuk {column}: {e}\")\n",
        "else:\n",
        "    print(\"Dataset belum dimuat.\")\n"
      ],
      "metadata": {
        "id": "zzLf8YaUZzlT"
      },
      "execution_count": null,
      "outputs": []
    },
    {
      "cell_type": "code",
      "source": [
        "if df is not None and 'IMDB_Rating' in df.columns:\n",
        "    print(\"\\nMembuat visualisasi hubungan dengan variabel target...\")\n",
        "\n",
        "    # Hubungan Numerik vs Target (contoh: Age, CGPA)\n",
        "    numerical_to_plot = ['Meta_score']\n",
        "    for col in numerical_to_plot:\n",
        "        if col in df.columns:\n",
        "            plt.figure(figsize=(15, 15))\n",
        "            sns.boxplot(data=df, x='IMDB_Rating', y=col)\n",
        "            plt.title(f'Hubungan antara {col} dan IMDB_Rating')\n",
        "            plt.show()\n",
        "\n",
        "    # Hubungan Kategorikal vs Target (contoh: Genre)\n",
        "categorical_to_plot = ['Genre']\n",
        "for col in categorical_to_plot:\n",
        "    if col in df.columns:\n",
        "        # Pecah genre menjadi list lalu explode\n",
        "        df_exploded = df.copy()\n",
        "        df_exploded[col] = df_exploded[col].astype(str).str.split(', ')\n",
        "        df_exploded = df_exploded.explode(col)  # Tiap genre jadi baris baru\n",
        "\n",
        "        plt.figure(figsize=(20, 10))\n",
        "        sns.countplot(data=df_exploded, x=col, hue='IMDB_Rating', palette='pastel')\n",
        "        plt.title(f'Hubungan antara {col} dan IMDB_Rating')\n",
        "        plt.xticks(rotation=45)\n",
        "        plt.tight_layout()\n",
        "        plt.show()\n"
      ],
      "metadata": {
        "id": "Ds_u17pjbftQ"
      },
      "execution_count": null,
      "outputs": []
    },
    {
      "cell_type": "code",
      "source": [
        "if df is not None and 'Runtime' in df.columns:\n",
        "    # Cek nilai unik di kolom 'Runtime'\n",
        "    print(\"Nilai unik di 'Runtime':\", df['Runtime'].unique())\n",
        "\n",
        "    # Coba konversi ke numerik, paksa error menjadi NaN\n",
        "    df['Runtime'] = pd.to_numeric(df['Runtime'].astype(str).str.extract(r'(\\d+)')[0], errors='coerce')\n",
        "\n",
        "    # Cek apakah ada NaN yang muncul setelah konversi (jika ada nilai non-numerik)\n",
        "    if df['Runtime'].isnull().sum() > 0:\n",
        "        print(\"Peringatan: Ada nilai non-numerik di 'Runtime', menghasilkan NaN.\")\n",
        "\n",
        "        # Handle NaN jika muncul (misal: imputasi median)\n",
        "        median_fs = df['Runtime'].median()\n",
        "\n",
        "        # Cek apakah median_fs adalah NaN\n",
        "        if pd.isna(median_fs):\n",
        "            print(\"Tidak ada nilai yang valid untuk menghitung median.\")\n",
        "        else:\n",
        "            df['Runtime'] = df['Runtime'].fillna(median_fs)\n",
        "            print(f\"NaN di 'Runtime' diimputasi dengan median: {median_fs}\")\n",
        "    else:\n",
        "        print(\"Kolom 'Runtime' berhasil dikonversi ke numerik.\")\n",
        "\n",
        "    # Verifikasi tipe data baru`\n",
        "    print(f\"Tipe data baru 'Runtime': {df['Runtime'].dtype}\")\n",
        "else:\n",
        "    print(\"Dataset atau kolom 'Runtime' tidak ditemukan.\")\n"
      ],
      "metadata": {
        "collapsed": true,
        "id": "dJ7XHwjOGOUw"
      },
      "execution_count": null,
      "outputs": []
    },
    {
      "cell_type": "code",
      "source": [
        "if df is not None:\n",
        "    print(\"\\\\n--- Memulai Encoding Variabel Kategorikal ---\")\n",
        "    # Identifikasi kolom kategorikal (tipe 'object' setelah Financial Stress dikonversi)\n",
        "    categorical_cols_to_encode = df.select_dtypes(include=['object', 'category']).columns.tolist()\n",
        "\n",
        "    # Hapus kolom yang tidak relevan jika ada (misal: id jika tidak dihapus sebelumnya)\n",
        "    if 'Gross' in categorical_cols_to_encode:\n",
        "        categorical_cols_to_encode.remove('Gross')  # Contoh jika 'Gross' masih object\n",
        "\n",
        "    if categorical_cols_to_encode:\n",
        "        print(f\"Kolom kategorikal yang akan di-encode: {categorical_cols_to_encode}\")\n",
        "\n",
        "        # Terapkan One-Hot Encoding\n",
        "        df_encoded = pd.get_dummies(df, columns=categorical_cols_to_encode, drop_first=True, dtype=int)\n",
        "\n",
        "        # Hapus kolom 'Gross' asli jika masih ada dan tidak diperlukan\n",
        "        if 'Gross' in df_encoded.columns:\n",
        "            df_encoded = df_encoded.drop(['Gross'], axis=1)\n",
        "            print(\"Kolom 'Gross' telah dihapus.\")\n",
        "\n",
        "        print(f\"Dimensi dataset setelah One-Hot Encoding: {df_encoded.shape}\")\n",
        "        print(\"Contoh beberapa nama kolom baru:\")\n",
        "        print(df_encoded.columns[:5].tolist(), \"...\")\n",
        "    else:\n",
        "        print(\"Tidak ada kolom kategorikal yang perlu di-encode.\")\n",
        "        df_encoded = df.copy()\n",
        "        if 'Gross' in df_encoded.columns:  # Hapus Gross jika tidak ada encoding\n",
        "            df_encoded = df_encoded.drop(['Gross'], axis=1)\n",
        "            print(\"Kolom 'Gross' telah dihapus.\")\n",
        "else:\n",
        "    print(\"Dataframe 'df' tidak tersedia.\")\n",
        "    df_encoded = None\n"
      ],
      "metadata": {
        "id": "Or09zJkHHlmb"
      },
      "execution_count": null,
      "outputs": []
    },
    {
      "cell_type": "code",
      "source": [
        "from sklearn.preprocessing import MinMaxScaler\n",
        "\n",
        "if 'df_encoded' in locals() and df_encoded is not None:\n",
        "    print(\"\\\\n--- Memulai Scaling Fitur Numerik ---\")\n",
        "    # Identifikasi fitur numerik ASLI (sebelum OHE) untuk di-scale\n",
        "    original_numerical_cols = ['Released_Year','Runtime','Meta_Score','No_of_Votes']\n",
        "    if 'IMDB_Rating' in original_numerical_cols:\n",
        "        original_numerical_cols.remove('IMDB_Rating')\n",
        "    numerical_features_to_scale = [col for col in original_numerical_cols if col in df_encoded.columns]\n",
        "\n",
        "    if numerical_features_to_scale:\n",
        "        print(f\"Fitur numerik yang akan di-scale: {numerical_features_to_scale}\")\n",
        "\n",
        "        scaler = MinMaxScaler()\n",
        "        df_scaled = df_encoded.copy()\n",
        "        # Terapkan scaler (idealnya fit_transform di train, transform di test)\n",
        "        df_scaled[numerical_features_to_scale] = scaler.fit_transform(df_scaled[numerical_features_to_scale])\n",
        "\n",
        "        print(\"\\\\nContoh data setelah normalisasi (fitur numerik yang di-scale):\")\n",
        "        print(df_scaled[numerical_features_to_scale].head())\n",
        "        print(\"\\\\nStatistik deskriptif setelah scaling (cek min/max):\")\n",
        "        print(df_scaled[numerical_features_to_scale].describe().T)\n",
        "    else:\n",
        "        print(\"Tidak ada fitur numerik asli yang perlu di-scale.\")\n",
        "        df_scaled = df_encoded.copy()\n",
        "else:\n",
        "    print(\"Dataframe df_encoded tidak tersedia.\")\n",
        "    df_scaled = None\n"
      ],
      "metadata": {
        "id": "BV6lIZC-JZvM"
      },
      "execution_count": null,
      "outputs": []
    },
    {
      "cell_type": "code",
      "source": [
        "if 'df_scaled' in locals() and df_scaled is not None and 'IMDB_Rating' in df_scaled.columns:\n",
        "    print('\\n---- Manual Pembagian Dataset (Train-Test Split) ----')\n",
        "    target_column = 'IMDB_Rating'\n",
        "    X = df_scaled.drop(target_column, axis=1)\n",
        "    y = df_scaled[target_column]\n",
        "\n",
        "    print(f\"Ukuran Fitur (X) sebelum split: {X.shape}\")\n",
        "    print(f\"Ukuran Target (y) sebelum split: {y.shape}\")\n",
        "\n",
        "    try:\n",
        "        # Cek jumlah kelas unik dan distribusinya\n",
        "        value_counts = y.value_counts()\n",
        "\n",
        "        if value_counts.min() < 2 or y.nunique() > 20:\n",
        "            print(\"Terdapat kelas dengan jumlah sangat sedikit atau terlalu banyak kelas unik. Menggunakan binning...\")\n",
        "\n",
        "            # Melakukan binning ke dalam 5 kategori berdasarkan quantiles\n",
        "            y_binned = pd.qcut(y, q=5, labels=False, duplicates='drop')  # duplicates='drop' menghindari error jika batas bin sama\n",
        "\n",
        "            # Split data dengan stratifikasi berdasarkan bin\n",
        "            X_train, X_test, y_train, y_test = train_test_split(\n",
        "                X, y,\n",
        "                test_size=0.2,\n",
        "                random_state=42,\n",
        "                stratify=y_binned\n",
        "            )\n",
        "        else:\n",
        "            # Lanjutkan split dengan stratifikasi biasa\n",
        "            X_train, X_test, y_train, y_test = train_test_split(\n",
        "                X, y,\n",
        "                test_size=0.2,\n",
        "                random_state=42,\n",
        "                stratify=y\n",
        "            )\n",
        "\n",
        "        print(\"\\nUkuran dataset setelah dibagi:\")\n",
        "        print(f\"X_train shape: {X_train.shape}\")\n",
        "        print(f\"X_test shape: {X_test.shape}\")\n",
        "        print(f\"y_train shape: {y_train.shape}\")\n",
        "        print(f\"y_test shape: {y_test.shape}\")\n",
        "\n",
        "        print(f\"\\nProps target (y_train):\\n{y_train.value_counts(normalize=True).map('{:.2%}'.format)}\")\n",
        "        print(f\"\\nProps target (y_test):\\n{y_test.value_counts(normalize=True).map('{:.2%}'.format)}\")\n",
        "\n",
        "    except Exception as e:\n",
        "        print(f\"Error saat membagi dataset: {e}\")\n",
        "\n",
        "else:\n",
        "    print(\"Dataframe 'df_scaled' atau kolom target 'IMDB_Rating' tidak tersedia.\")"
      ],
      "metadata": {
        "id": "CEJIlu_aQMeW"
      },
      "execution_count": null,
      "outputs": []
    },
    {
      "cell_type": "markdown",
      "source": [
        "**Kesimpulan**\n",
        "\n",
        "1. Ringkasan Temuan\n",
        "\n",
        "Dataset yang digunakan merupakan kumpulan data IMDb Top 1000 Movies & TV Shows yang terdiri dari berbagai fitur numerik dan kategorikal.\n",
        "\n",
        "Fitur numerik: `Runtime`, `IMDB_Rating`, `Meta_score`,`Released_Year`, `No_of_Votes`, `Gross`.\n",
        "\n",
        "Fitur kategorikal:`Poster_Link`, `Series_Title`, `Genre`, `Certificate`,`Overview`, `Director`, `Star1`, `Star2`, `Star3`, `Star4`.\n",
        "\n",
        "Dataset ini mengandung sejumlah nilai hilang (missing values), terutama pada kolom `Meta_score` dan `Gross`, yang perlu ditangani sebelum proses analisis lebih lanjut.\n",
        "\n",
        "2. Ringkasan Persiapan Data\n",
        "Penanganan Nilai Hilang:\n",
        "Nilai hilang ditangani dengan metode penghapusan (drop) atau pengisian menggunakan nilai rata-rata/median tergantung pada jenis data.\n",
        "\n",
        "Tipe Data:\n",
        "Kolom yang bertipe objek namun mengandung nilai numerik diubah ke tipe numerik (contoh: `Runtime`).\n",
        "\n",
        "Encoding:\n",
        "Fitur kategorikal seperti `Genre` dikodekan menggunakan teknik One-Hot Encoding.\n",
        "\n",
        "Scaling:\n",
        "Fitur numerik seperti `Runtime` dan `No_of_Votes` diskalakan menggunakan StandardScaler agar memiliki distribusi normal.\n",
        "\n",
        "Train-Test Split:\n",
        "Data dibagi menjadi 80% data latih dan 20% data uji.\n",
        "\n",
        "3. Tantangan\n",
        "\n",
        "Banyaknya nilai hilang pada fitur penting yang dapat mempengaruhi kualitas model.\n",
        "Menentukan fitur mana yang paling relevan terhadap variabel target (misalnya `IMDB_Rating`)"
      ],
      "metadata": {
        "id": "eM9F2bDaPXJ9"
      }
    }
  ]
}